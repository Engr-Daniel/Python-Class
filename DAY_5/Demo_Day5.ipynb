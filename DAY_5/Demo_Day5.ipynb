{
 "cells": [
  {
   "cell_type": "markdown",
   "id": "c271ca80",
   "metadata": {},
   "source": [
    "#### OBJECT ORIENTED PROGRAMMING\n",
    "\n",
    "- Attributes & Class Keyword\n",
    "- Class Object Attributes and Methods\n",
    "- Inheritance and Polymorphism\n",
    "- Special(Magic/Dunder) Methods\n",
    "- MODULES AND PACKAGES name and \"main\" Errors and Exceptions Handling\n",
    "- Pylint Overview"
   ]
  },
  {
   "cell_type": "markdown",
   "id": "a2842550",
   "metadata": {},
   "source": [
    "**User defined objects created x using Class- Initializing Class**"
   ]
  },
  {
   "cell_type": "code",
   "execution_count": 1,
   "id": "1bb6d9ec",
   "metadata": {},
   "outputs": [
    {
     "name": "stdout",
     "output_type": "stream",
     "text": [
      "Hello All\n",
      "<class '__main__.Student'>\n"
     ]
    }
   ],
   "source": [
    "class Student:\n",
    "    print(\"Hello All\")\n",
    "    \n",
    "x = Student()     #Object Instantiation\n",
    "print(type(x))"
   ]
  },
  {
   "cell_type": "code",
   "execution_count": 2,
   "id": "90de7a4d",
   "metadata": {},
   "outputs": [
    {
     "name": "stdout",
     "output_type": "stream",
     "text": [
      "Hello all welcome to the session\n"
     ]
    }
   ],
   "source": [
    "class Student:\n",
    "    \n",
    "    def func():\n",
    "        print(\"Hello all welcome to the session\")\n",
    "        \n",
    "Student.func()"
   ]
  },
  {
   "cell_type": "code",
   "execution_count": 3,
   "id": "5cbcaf3c",
   "metadata": {},
   "outputs": [
    {
     "name": "stdout",
     "output_type": "stream",
     "text": [
      "Hello all welcome to the session\n"
     ]
    }
   ],
   "source": [
    "class Student:\n",
    "    \n",
    "    def func(self):\n",
    "        print(\"Hello all welcome to the session\")\n",
    "        \n",
    "x = Student()\n",
    "x.func()"
   ]
  },
  {
   "cell_type": "markdown",
   "id": "c18d2ae8",
   "metadata": {},
   "source": [
    "Class Object attribute - same for any instance of the class"
   ]
  },
  {
   "cell_type": "code",
   "execution_count": 4,
   "id": "00786d82",
   "metadata": {},
   "outputs": [
    {
     "data": {
      "text/plain": [
       "'2021'"
      ]
     },
     "execution_count": 4,
     "metadata": {},
     "output_type": "execute_result"
    }
   ],
   "source": [
    "class Student:\n",
    "    year = '2021'\n",
    "    \n",
    "    def func():\n",
    "        print(\"Hello all welcome to the session\")\n",
    "        \n",
    "x = Student()\n",
    "x.year"
   ]
  },
  {
   "cell_type": "code",
   "execution_count": 5,
   "id": "9bdeee7b",
   "metadata": {},
   "outputs": [
    {
     "name": "stdout",
     "output_type": "stream",
     "text": [
      "Hello all welcome to the session 2021\n"
     ]
    }
   ],
   "source": [
    "class Student:\n",
    "    year = '2021'\n",
    "    \n",
    "    def func(self):\n",
    "        print(\"Hello all welcome to the session\", self.year)\n",
    "        \n",
    "x = Student()\n",
    "x.func()"
   ]
  },
  {
   "cell_type": "markdown",
   "id": "9d235cb7",
   "metadata": {},
   "source": [
    "**Attribute of an Object (characteristic of an object) Attribute won't take any argument**"
   ]
  },
  {
   "cell_type": "code",
   "execution_count": 6,
   "id": "df02c5e5",
   "metadata": {},
   "outputs": [
    {
     "name": "stdout",
     "output_type": "stream",
     "text": [
      "Elon Musk !\n"
     ]
    }
   ],
   "source": [
    "class Student:\n",
    "    \n",
    "    def __init__(self, name):  #__init__(Method) to initialize attribute of an object(Construtor)\n",
    "        self.name = name       #self.name = attribute initialized \n",
    "        \n",
    "#(creating instance of student class {Object of certian class})\n",
    "elon = Student(name = \"Elon Musk !\")\n",
    "print(elon.name)"
   ]
  },
  {
   "cell_type": "code",
   "execution_count": 7,
   "id": "79d3ab11",
   "metadata": {},
   "outputs": [
    {
     "name": "stdout",
     "output_type": "stream",
     "text": [
      "Elon Musk !\n",
      "I am Champ !\n"
     ]
    }
   ],
   "source": [
    "class Student:\n",
    "    \n",
    "    def __init__(self,name): \n",
    "        self.name = name \n",
    "        \n",
    "elon = Student(name='Elon Musk !')\n",
    "champ = Student(name='I am Champ !')\n",
    "\n",
    "print(elon.name) \n",
    "print(champ.name)"
   ]
  },
  {
   "cell_type": "code",
   "execution_count": 8,
   "id": "393acb11",
   "metadata": {},
   "outputs": [
    {
     "name": "stdout",
     "output_type": "stream",
     "text": [
      "Elon Musk !\n",
      "40\n"
     ]
    }
   ],
   "source": [
    "class Student:\n",
    "    \n",
    "    def __init__(self,name,age): \n",
    "        self.name = name \n",
    "        self.age = age\n",
    "        \n",
    "elon = Student(name='Elon Musk !',age=40) \n",
    "\n",
    "print(elon.name)\n",
    "print(elon.age)"
   ]
  },
  {
   "cell_type": "code",
   "execution_count": 9,
   "id": "0404cb1a",
   "metadata": {},
   "outputs": [
    {
     "name": "stdout",
     "output_type": "stream",
     "text": [
      "Elon Musk !\n",
      "40\n"
     ]
    }
   ],
   "source": [
    "class Student:\n",
    "    \n",
    "    def __init__(self,name,age): \n",
    "        self.name = name \n",
    "        self.age = age\n",
    "        \n",
    "elon = Student('Elon Musk !', 40) \n",
    "\n",
    "print(elon.name)\n",
    "print(elon.age)"
   ]
  },
  {
   "cell_type": "code",
   "execution_count": 10,
   "id": "21ffb327",
   "metadata": {},
   "outputs": [
    {
     "name": "stdout",
     "output_type": "stream",
     "text": [
      "Initialized...\n",
      "Total Marks:  500\n",
      "Lossed Marks:  50\n",
      "Percentage is:  90.0\n"
     ]
    }
   ],
   "source": [
    "class Student:\n",
    "    Total = 500\n",
    "    \n",
    "    def __init__(self, marks):\n",
    "        self.marks = marks\n",
    "        print(\"Initialized...\")\n",
    "        \n",
    "    def findLoss(self):\n",
    "        return self.Total - self.marks\n",
    "    \n",
    "    def findPercentage(self):\n",
    "        return self.marks / self.Total * 100\n",
    "    \n",
    "a = Student(marks = 450)\n",
    "\n",
    "print('Total Marks: ', a.Total)\n",
    "print('Lossed Marks: ', a.findLoss())\n",
    "print('Percentage is: ', a.findPercentage())"
   ]
  },
  {
   "cell_type": "code",
   "execution_count": 11,
   "id": "75f70a05",
   "metadata": {},
   "outputs": [
    {
     "name": "stdout",
     "output_type": "stream",
     "text": [
      "Daniel score is 298\n",
      "Obtainable Marks:  400\n",
      "Daniel lossed 102 marks\n",
      "Daniel Percentage score is: 74.5 %\n"
     ]
    }
   ],
   "source": [
    "class UTME:\n",
    "    ObtainableMark = 400\n",
    "    \n",
    "    def __init__(self, candidate, mark):\n",
    "        self.mark = mark\n",
    "        self.candidate = candidate\n",
    "        print(f\"{self.candidate} score is {self.mark}\")\n",
    "        \n",
    "    def findLoss(self):\n",
    "        return self.ObtainableMark - self.mark\n",
    "    \n",
    "    def findPercentage(self):\n",
    "        return self.mark / self.ObtainableMark * 100\n",
    "    \n",
    "a = UTME(candidate = 'Daniel', mark = 298)\n",
    "\n",
    "print('Obtainable Marks: ', a.ObtainableMark)\n",
    "print(a.candidate, 'lossed', a.findLoss(), 'marks')\n",
    "print(a.candidate, 'Percentage score is:', a.findPercentage(),'%')"
   ]
  },
  {
   "cell_type": "markdown",
   "id": "22d244b3",
   "metadata": {},
   "source": [
    "Special Methods"
   ]
  },
  {
   "cell_type": "code",
   "execution_count": 12,
   "id": "a75d5fc9",
   "metadata": {},
   "outputs": [
    {
     "name": "stdout",
     "output_type": "stream",
     "text": [
      "Initialized...\n",
      "Name: Champ | Marks: 450 | Gender: male\n",
      "Marks:  450\n",
      "Student Database id Deleted\n"
     ]
    }
   ],
   "source": [
    "class Student:\n",
    "    Total = 500\n",
    "    \n",
    "    def __init__(self, name, marks, gender):\n",
    "        self.name = name\n",
    "        self.marks = marks\n",
    "        self.gender = gender\n",
    "        print(\"Initialized...\")\n",
    "        \n",
    "    def __len__(self):\n",
    "        return self.marks\n",
    "    \n",
    "    def __str__(self):\n",
    "        return \"Name: %s | Marks: %s | Gender: %s\" %(self.name, self.marks, self.gender)\n",
    "    \n",
    "    def __del__(self):\n",
    "        print(\"Student Database id Deleted\")\n",
    "        \n",
    "        \n",
    "a =Student('Champ', 450, 'male')\n",
    "\n",
    "print(a)\n",
    "print('Marks: ', len(a))\n",
    "del a"
   ]
  },
  {
   "cell_type": "markdown",
   "id": "b218d266",
   "metadata": {},
   "source": [
    "Inheritance - Help to reduce complexity of the program\n",
    "\n",
    "Base Class & Derived Class"
   ]
  },
  {
   "cell_type": "code",
   "execution_count": 13,
   "id": "3928211c",
   "metadata": {},
   "outputs": [],
   "source": [
    "class Elon:\n",
    "    def __init__(self):\n",
    "        print(\"Profile created\")\n",
    "        \n",
    "    def name(self):\n",
    "        print(\"Elon Musk\")\n",
    "        \n",
    "    def age(self):\n",
    "        print(\"40\")\n",
    "        \n",
    "class SpaceX(Elon):\n",
    "    def __init__(self):\n",
    "        Elon.__init__(self)\n",
    "        print(\"Company Profile created\")\n",
    "        \n",
    "    def name(self):\n",
    "        print(\"SpaceX\")\n",
    "        \n",
    "    def type(self):\n",
    "        print(\"Private Space travel\")"
   ]
  },
  {
   "cell_type": "code",
   "execution_count": 14,
   "id": "eb295ea9",
   "metadata": {},
   "outputs": [
    {
     "name": "stdout",
     "output_type": "stream",
     "text": [
      "Profile created\n",
      "Company Profile created\n"
     ]
    }
   ],
   "source": [
    "a = SpaceX()"
   ]
  },
  {
   "cell_type": "code",
   "execution_count": 15,
   "id": "d338831c",
   "metadata": {},
   "outputs": [
    {
     "name": "stdout",
     "output_type": "stream",
     "text": [
      "SpaceX\n"
     ]
    }
   ],
   "source": [
    "a.name()  #Derived class modified behavior of base class"
   ]
  },
  {
   "cell_type": "code",
   "execution_count": 16,
   "id": "3e07ccb0",
   "metadata": {},
   "outputs": [
    {
     "name": "stdout",
     "output_type": "stream",
     "text": [
      "40\n"
     ]
    }
   ],
   "source": [
    "a.age()"
   ]
  },
  {
   "cell_type": "markdown",
   "id": "f8717fc5",
   "metadata": {},
   "source": [
    "**Polymorphism**\n",
    "\n",
    "Different object classes can share the same method name, and those methods can be called from the same place even though a different objects passed in"
   ]
  },
  {
   "cell_type": "code",
   "execution_count": 17,
   "id": "66fe1085",
   "metadata": {},
   "outputs": [],
   "source": [
    "class Elon:\n",
    "    def __init__(self,name):\n",
    "        self.name = name\n",
    "    def type(self):\n",
    "        return \"Entrepreneur\"\n",
    "class Sundar:\n",
    "    def __init__(self,name):\n",
    "        self.name = name\n",
    "    def type(self):\n",
    "        return \"CEO\"\n",
    "          \n",
    "person1 = Elon('Elon Musk') #name: argument\n",
    "person2 = Sundar('Sundar Pichai')"
   ]
  },
  {
   "cell_type": "code",
   "execution_count": 18,
   "id": "8398a6a9",
   "metadata": {},
   "outputs": [
    {
     "name": "stdout",
     "output_type": "stream",
     "text": [
      "Entrepreneur\n",
      "CEO\n"
     ]
    }
   ],
   "source": [
    "#returning unique result of object which have same method(type)\n",
    "print(person1.type())\n",
    "print(person2.type())"
   ]
  },
  {
   "cell_type": "code",
   "execution_count": 19,
   "id": "c120f40c",
   "metadata": {},
   "outputs": [
    {
     "name": "stdout",
     "output_type": "stream",
     "text": [
      "Elon Musk\n",
      "Entrepreneur\n",
      "**************\n",
      "Sundar Pichai\n",
      "CEO\n",
      "**************\n"
     ]
    }
   ],
   "source": [
    "for i in [person1,person2]:\n",
    "    print(i.name)\n",
    "    print(i.type())\n",
    "    print(\"**************\")"
   ]
  },
  {
   "cell_type": "markdown",
   "id": "3ae4df21",
   "metadata": {},
   "source": [
    "15. **Python Decorators - Functions which modify the functionality of another function/class**"
   ]
  },
  {
   "cell_type": "code",
   "execution_count": 20,
   "id": "4be8c302",
   "metadata": {},
   "outputs": [
    {
     "data": {
      "text/plain": [
       "'@decName\\ndef func():\\n     print(\"Statement\")\\n     \\nEQUAL TO\\n\\ndef func():\\n    print(\"statement\")\\n    \\nfunc = decName(func) '"
      ]
     },
     "execution_count": 20,
     "metadata": {},
     "output_type": "execute_result"
    }
   ],
   "source": [
    "'''@decName\n",
    "def func():\n",
    "     print(\"Statement\")\n",
    "     \n",
    "EQUAL TO\n",
    "\n",
    "def func():\n",
    "    print(\"statement\")\n",
    "    \n",
    "func = decName(func) '''"
   ]
  }
 ],
 "metadata": {
  "kernelspec": {
   "display_name": "Python 3 (ipykernel)",
   "language": "python",
   "name": "python3"
  },
  "language_info": {
   "codemirror_mode": {
    "name": "ipython",
    "version": 3
   },
   "file_extension": ".py",
   "mimetype": "text/x-python",
   "name": "python",
   "nbconvert_exporter": "python",
   "pygments_lexer": "ipython3",
   "version": "3.9.7"
  }
 },
 "nbformat": 4,
 "nbformat_minor": 5
}
