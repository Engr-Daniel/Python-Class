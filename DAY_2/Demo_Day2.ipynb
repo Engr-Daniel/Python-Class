{
 "cells": [
  {
   "cell_type": "markdown",
   "metadata": {
    "id": "YIpEpQwiC4l9"
   },
   "source": [
    "Basic PYTHON"
   ]
  },
  {
   "cell_type": "markdown",
   "metadata": {
    "id": "fM9FH1ZkDa-R"
   },
   "source": [
    "#### Arithmetic"
   ]
  },
  {
   "cell_type": "code",
   "execution_count": 1,
   "metadata": {
    "colab": {
     "base_uri": "https://localhost:8080/"
    },
    "id": "tfuztFiUCo7O",
    "outputId": "d99b8d04-655e-4efa-d0a5-5e2bbe856239"
   },
   "outputs": [
    {
     "name": "stdout",
     "output_type": "stream",
     "text": [
      "11\n"
     ]
    }
   ],
   "source": [
    "a=5\n",
    "b=6\n",
    "c=a+b\n",
    "print(c)"
   ]
  },
  {
   "cell_type": "code",
   "execution_count": 2,
   "metadata": {
    "colab": {
     "base_uri": "https://localhost:8080/"
    },
    "id": "GBc0lPw0C9oL",
    "outputId": "2a84dafb-8b3b-49a3-8c57-1350e2ac6421"
   },
   "outputs": [
    {
     "name": "stdout",
     "output_type": "stream",
     "text": [
      "30\n"
     ]
    }
   ],
   "source": [
    "d = a * b\n",
    "print(d)"
   ]
  },
  {
   "cell_type": "code",
   "execution_count": 3,
   "metadata": {
    "colab": {
     "base_uri": "https://localhost:8080/"
    },
    "id": "lc56a0cNDuHe",
    "outputId": "c2573b26-4547-465b-8f7f-2d9e2f579930"
   },
   "outputs": [
    {
     "name": "stdout",
     "output_type": "stream",
     "text": [
      "Enter the value of a: 9\n",
      "Enter the value of b: 4\n",
      "Sum: 13, Diff: 5, Mult: 36, Div: 2.25, Mod: 1\n"
     ]
    }
   ],
   "source": [
    "a = int(input(\"Enter the value of a: \"))\n",
    "b = int(input(\"Enter the value of b: \"))\n",
    "\n",
    "add = a + b\n",
    "sub = a - b\n",
    "mult = a * b\n",
    "div = a / b\n",
    "mod = a%b\n",
    "\n",
    "print(\"Sum: {0}, Diff: {1}, Mult: {2}, Div: {3}, Mod: {4}\".format(add, sub, mult, div, mod))"
   ]
  },
  {
   "cell_type": "code",
   "execution_count": 4,
   "metadata": {
    "colab": {
     "base_uri": "https://localhost:8080/"
    },
    "id": "nymraMbfG-H2",
    "outputId": "9fc68a61-4f44-45af-907f-c391aada6c08"
   },
   "outputs": [
    {
     "name": "stdout",
     "output_type": "stream",
     "text": [
      "ADD: 13 SUBTRACT: 5\n",
      "Sum: 13, Diff: 5, Mult: 36, Div:       2.250000, Mod:1\n"
     ]
    }
   ],
   "source": [
    "print(\"ADD:\",add, \"SUBTRACT:\",sub)\n",
    "#print(\"Sum: {0}, Diff: {1}, Mult: {2}, Div:{3}, Mod:{4}\".format(add,sub,mult,div,mod)) #Print using Format\n",
    "\n",
    "print(\"Sum: %d, Diff: %d, Mult: %d, Div:%15.6f, Mod:%d\"%(add,sub,mult,div,mod)) #Print using PADDING & PRECISION"
   ]
  },
  {
   "cell_type": "code",
   "execution_count": 5,
   "metadata": {
    "colab": {
     "base_uri": "https://localhost:8080/"
    },
    "id": "q3ExkcGVHoR7",
    "outputId": "0cddf556-0332-4174-bc46-fbc04a486a77"
   },
   "outputs": [
    {
     "name": "stdout",
     "output_type": "stream",
     "text": [
      "Sum  | Diff | Mult |  Div\n",
      "13   |  5   |  36  | 2.25\n"
     ]
    }
   ],
   "source": [
    "print('{0:<4} | {1:^4} | {2:^4} | {3:>4}'.format('Sum','Diff','Mult','Div'))\n",
    "print('{0:<4} | {1:^4} | {2:^4} | {3:>4}'.format(add,sub,mult,div))"
   ]
  },
  {
   "cell_type": "code",
   "execution_count": 6,
   "metadata": {
    "colab": {
     "base_uri": "https://localhost:8080/"
    },
    "id": "GHg4ZX8tH7Wq",
    "outputId": "a19d758d-d4a7-4298-8591-d78a20c41ca2"
   },
   "outputs": [
    {
     "name": "stdout",
     "output_type": "stream",
     "text": [
      "Sum   | Diff  | Mult  |  Div  |   MOd\n",
      "13    |   5   |  36   | 2.25  |     1\n"
     ]
    }
   ],
   "source": [
    "print('{0:<5} | {1:^5} | {2:^5} | {3:^5} | {4:>5}'.format('Sum','Diff','Mult','Div','MOd'))\n",
    "print('{0:<5} | {1:^5} | {2:^5} | {3:^5} | {4:>5}'.format(add,sub,mult,div,mod))"
   ]
  },
  {
   "cell_type": "code",
   "execution_count": 11,
   "metadata": {
    "colab": {
     "base_uri": "https://localhost:8080/"
    },
    "id": "vBmS-ShKJuEK",
    "outputId": "a0d312d5-9e4f-4caf-a854-878e0eaf16ac"
   },
   "outputs": [
    {
     "name": "stdout",
     "output_type": "stream",
     "text": [
      "ADD: 13 \n",
      "SUBTRACT: 5\n"
     ]
    }
   ],
   "source": [
    "print(\"ADD:\",add, \"\\nSUBTRACT:\",sub)"
   ]
  },
  {
   "cell_type": "markdown",
   "metadata": {
    "id": "w0N9L81KMEto"
   },
   "source": [
    "Simple Arithmetic - Get input from user(+,_,*,%)"
   ]
  },
  {
   "cell_type": "code",
   "execution_count": 14,
   "metadata": {
    "colab": {
     "base_uri": "https://localhost:8080/"
    },
    "id": "GUCL3ZFfJ9jH",
    "outputId": "dbb73851-8343-48f3-aad4-21bdb2c95a42"
   },
   "outputs": [
    {
     "name": "stdout",
     "output_type": "stream",
     "text": [
      "Enter the value of a: 9.6\n",
      "Enter the value of b: 8.5\n",
      "18.1\n",
      "Sum: 18.1, Diff: 1.0999999999999996, Mult: 81.6, Div: 1.1294117647058823, Mod: 1.0999999999999996\n"
     ]
    }
   ],
   "source": [
    "a = float(input(\"Enter the value of a: \"))\n",
    "b = float(input(\"Enter the value of b: \"))\n",
    "add = a + b\n",
    "sub = a - b\n",
    "mult = a * b\n",
    "div = a / b\n",
    "mod = a%b\n",
    "\n",
    "print(add)\n",
    "print(\"Sum: {0}, Diff: {1}, Mult: {2}, Div: {3}, Mod: {4}\".format(add, sub, mult, div, mod))\n"
   ]
  },
  {
   "cell_type": "code",
   "execution_count": 15,
   "metadata": {
    "colab": {
     "base_uri": "https://localhost:8080/"
    },
    "id": "XZfvAtwVMPSY",
    "outputId": "8ccf1d79-f8df-4b5c-e37a-b0aa8b16ba53"
   },
   "outputs": [
    {
     "name": "stdout",
     "output_type": "stream",
     "text": [
      "9\n"
     ]
    }
   ],
   "source": [
    "a = 3\n",
    "b = 2\n",
    "c = a**b           #Power\n",
    "\n",
    "print(c)"
   ]
  },
  {
   "cell_type": "markdown",
   "metadata": {
    "id": "U8J_kpV7NWtT"
   },
   "source": [
    "2. String"
   ]
  },
  {
   "cell_type": "code",
   "execution_count": null,
   "metadata": {
    "id": "xG53cPd7N25p"
   },
   "outputs": [],
   "source": []
  },
  {
   "cell_type": "code",
   "execution_count": 18,
   "metadata": {
    "colab": {
     "base_uri": "https://localhost:8080/"
    },
    "id": "7HGZbxrKNUGu",
    "outputId": "9af08aa6-5f50-4379-8b32-3ef7e158603a"
   },
   "outputs": [
    {
     "name": "stdout",
     "output_type": "stream",
     "text": [
      "Python\n",
      " Bootcamp\n",
      "Python Bootcamp\n"
     ]
    }
   ],
   "source": [
    "a = 'Python'\n",
    "b = ' Bootcamp'\n",
    "\n",
    "print(a)\n",
    "print(b)\n",
    "print(a+b)"
   ]
  },
  {
   "cell_type": "markdown",
   "metadata": {
    "id": "r37RuvbPNm7Y"
   },
   "source": [
    "Length of String\n"
   ]
  },
  {
   "cell_type": "code",
   "execution_count": 19,
   "metadata": {
    "colab": {
     "base_uri": "https://localhost:8080/"
    },
    "id": "TR5xJjjENkW3",
    "outputId": "3f6e4f7c-2798-44cb-bbb8-a75eb9cdb1d6"
   },
   "outputs": [
    {
     "data": {
      "text/plain": [
       "5"
      ]
     },
     "execution_count": 19,
     "metadata": {},
     "output_type": "execute_result"
    }
   ],
   "source": [
    "a = \"champ\"\n",
    "len(a)"
   ]
  },
  {
   "cell_type": "code",
   "execution_count": 20,
   "metadata": {
    "colab": {
     "base_uri": "https://localhost:8080/",
     "height": 35
    },
    "id": "swpkCJoTN6TJ",
    "outputId": "766c8dc8-ed51-46ab-dd9c-9bc129d69618"
   },
   "outputs": [
    {
     "data": {
      "application/vnd.google.colaboratory.intrinsic+json": {
       "type": "string"
      },
      "text/plain": [
       "'sssss'"
      ]
     },
     "execution_count": 20,
     "metadata": {},
     "output_type": "execute_result"
    }
   ],
   "source": [
    "a =  's'\n",
    "a * 5"
   ]
  },
  {
   "cell_type": "markdown",
   "metadata": {
    "id": "JBbhspyZOC00"
   },
   "source": [
    "String Index"
   ]
  },
  {
   "cell_type": "code",
   "execution_count": 21,
   "metadata": {
    "colab": {
     "base_uri": "https://localhost:8080/"
    },
    "id": "cNGpishNOAYc",
    "outputId": "2ab9acf9-a15b-4056-9ad2-a7e496af1dd6"
   },
   "outputs": [
    {
     "name": "stdout",
     "output_type": "stream",
     "text": [
      "m\n",
      "amp\n",
      "ch\n",
      "p\n",
      "cham\n",
      "cap\n",
      "pmahc\n"
     ]
    }
   ],
   "source": [
    "a=\"champ\"\n",
    "print(a[3]) #identifing the element based on index\n",
    "print(a[2:]) #Grab the remaing elements except upto the Index\n",
    "print(a[:2]) #Grab the elements upto the Index\n",
    "print(a[-1]) #Grab the Last element\n",
    "print(a[:-1]) #Grab the elements except last element\n",
    "print(a[::2]) #Grab everything with 2 steps\n",
    "print(a[::-1]) #Print string backwards"
   ]
  },
  {
   "cell_type": "markdown",
   "metadata": {
    "id": "oIjoLHeHOeDM"
   },
   "source": [
    "String Functions"
   ]
  },
  {
   "cell_type": "code",
   "execution_count": 22,
   "metadata": {
    "colab": {
     "base_uri": "https://localhost:8080/"
    },
    "id": "6sfxTYJFONmV",
    "outputId": "3808ec4d-4668-446b-b781-52d356796894"
   },
   "outputs": [
    {
     "name": "stdout",
     "output_type": "stream",
     "text": [
      "MASTER CLASS\n",
      "master class\n"
     ]
    }
   ],
   "source": [
    "a=\"Master Class\"\n",
    "print(a.upper()) #Changing to Upper case\n",
    "print(a.lower()) #Changing to Lowerb= a.split() case\n",
    "\n"
   ]
  },
  {
   "cell_type": "code",
   "execution_count": 23,
   "metadata": {
    "colab": {
     "base_uri": "https://localhost:8080/"
    },
    "id": "1riVBQJnOqCv",
    "outputId": "31fb5b83-f720-4746-8a2e-718ed6d7708c"
   },
   "outputs": [
    {
     "name": "stdout",
     "output_type": "stream",
     "text": [
      "['Master', 'Class']\n",
      "Class\n"
     ]
    }
   ],
   "source": [
    "b= a.split() #Splitting String\n",
    "print(b)\n",
    "print(b[1]) #Printing the splitting string based on Index\n",
    "\n"
   ]
  },
  {
   "cell_type": "code",
   "execution_count": 24,
   "metadata": {
    "colab": {
     "base_uri": "https://localhost:8080/"
    },
    "id": "eoM6Tj9eOtk1",
    "outputId": "64473f59-5c03-43d3-d6b2-bf4d0a308ea0"
   },
   "outputs": [
    {
     "name": "stdout",
     "output_type": "stream",
     "text": [
      "['ElonMusk', 'SteveJobs', 'BillGates']\n",
      "SteveJobs\n"
     ]
    }
   ],
   "source": [
    "c=\"ElonMusk,SteveJobs,BillGates\"\n",
    "d=c.split(\",\") #Splitting string based on Delimitter\n",
    "print(d)\n",
    "print(d[1])"
   ]
  },
  {
   "cell_type": "code",
   "execution_count": 25,
   "metadata": {
    "colab": {
     "base_uri": "https://localhost:8080/"
    },
    "id": "CIifXqyrO65_",
    "outputId": "69139b59-109f-492e-f22b-0c9708fc44ff"
   },
   "outputs": [
    {
     "name": "stdout",
     "output_type": "stream",
     "text": [
      "Welcome to Python Master Class !\n"
     ]
    }
   ],
   "source": [
    "a=\"Master Class\"\n",
    "print(f\"Welcome to Python {a} !\") #Formatting string Literals"
   ]
  },
  {
   "cell_type": "markdown",
   "metadata": {
    "id": "xsqLA7YTPMsr"
   },
   "source": [
    "3. List"
   ]
  },
  {
   "cell_type": "code",
   "execution_count": 26,
   "metadata": {
    "id": "al2nv9unO8J8"
   },
   "outputs": [],
   "source": [
    "# Create List\n",
    "\n",
    "a = [1,2,3,4,5]\n",
    "b = [\"Champ\",21,99.5]"
   ]
  },
  {
   "cell_type": "code",
   "execution_count": 27,
   "metadata": {
    "colab": {
     "base_uri": "https://localhost:8080/"
    },
    "id": "xdkqbl3hPuo4",
    "outputId": "907acbab-268d-4fd7-fabb-153d65e91a9b"
   },
   "outputs": [
    {
     "name": "stdout",
     "output_type": "stream",
     "text": [
      "[1, 2, 3, 4, 5] ['Champ', 21, 99.5]\n",
      "3\n",
      "Champ\n",
      "[2, 3, 4, 5]\n",
      "[1, 2]\n",
      "[1, 2, 3, 4, 5, 'Champ', 21, 99.5]\n"
     ]
    }
   ],
   "source": [
    "print(a,b)\n",
    "print(len(b)) #Length of List\n",
    "print(b[0]) #Locate list element based on Index\n",
    "print(a[1:]) #print elements except 1st\n",
    "print(a[:2]) #Print elements upto 2nd element\n",
    "print(a+b) #Concatenate 2 list"
   ]
  },
  {
   "cell_type": "code",
   "execution_count": 28,
   "metadata": {
    "colab": {
     "base_uri": "https://localhost:8080/"
    },
    "id": "koT93mX1Pyaj",
    "outputId": "a83940a5-b6e4-4bcf-b11c-167768090576"
   },
   "outputs": [
    {
     "name": "stdout",
     "output_type": "stream",
     "text": [
      "[1, 2, 3, 4, 5, 6]\n"
     ]
    }
   ],
   "source": [
    "a = [1,2,3,4,5]\n",
    "a.append(6) #inserting new elements to the existing list\n",
    "print(a)"
   ]
  },
  {
   "cell_type": "code",
   "execution_count": 29,
   "metadata": {
    "colab": {
     "base_uri": "https://localhost:8080/"
    },
    "id": "PWEwg_tjQCDf",
    "outputId": "5408f8d9-5bf0-4158-ed02-712d800818ed"
   },
   "outputs": [
    {
     "name": "stdout",
     "output_type": "stream",
     "text": [
      "[5, 4, 3, 2, 1]\n",
      "1\n",
      "5\n"
     ]
    }
   ],
   "source": [
    "a = [1,2,3,4,5]\n",
    "a.reverse() #Reverse list\n",
    "print(a)\n",
    "print(min(a)) #Minimum\n",
    "print(max(a)) #Maximum"
   ]
  },
  {
   "cell_type": "code",
   "execution_count": 30,
   "metadata": {
    "colab": {
     "base_uri": "https://localhost:8080/"
    },
    "id": "JG2j4LDrQK4d",
    "outputId": "1d68ae03-5b52-4816-ae9d-adfe05e65936"
   },
   "outputs": [
    {
     "data": {
      "text/plain": [
       "[4, 5, 3, 2, 1]"
      ]
     },
     "execution_count": 30,
     "metadata": {},
     "output_type": "execute_result"
    }
   ],
   "source": [
    "a = [1,2,3,4,5]\n",
    "from random import shuffle\n",
    "shuffle(a)\n",
    "a"
   ]
  },
  {
   "cell_type": "code",
   "execution_count": 31,
   "metadata": {
    "colab": {
     "base_uri": "https://localhost:8080/"
    },
    "id": "uLamYpSxQVbj",
    "outputId": "7d8cffa4-bf93-45bf-a92e-1228baccd998"
   },
   "outputs": [
    {
     "name": "stdout",
     "output_type": "stream",
     "text": [
      "[[1, 2, 3], [4, 5, 6]]\n",
      "[1, 2, 3]\n",
      "1\n"
     ]
    }
   ],
   "source": [
    "a=[1,2,3]\n",
    "b=[4,5,6]\n",
    "c=[a,b] #Nested List Matrix\n",
    "print(c)\n",
    "print(c[0]) #Printing row\n",
    "print(c[0][0]) #Printing 1st element"
   ]
  },
  {
   "cell_type": "markdown",
   "metadata": {
    "id": "ZSxgUm65RFqe"
   },
   "source": [
    "4. Dictionary"
   ]
  },
  {
   "cell_type": "code",
   "execution_count": 32,
   "metadata": {
    "colab": {
     "base_uri": "https://localhost:8080/"
    },
    "id": "Boe3sgU4QavJ",
    "outputId": "2811fc99-9359-4379-e603-669edf2bcbda"
   },
   "outputs": [
    {
     "data": {
      "text/plain": [
       "{'Name': 'Elon', 'Age': 50, 'Company': ['SpaceX', 'Tesla']}"
      ]
     },
     "execution_count": 32,
     "metadata": {},
     "output_type": "execute_result"
    }
   ],
   "source": [
    "# Creating Dictionary : Key & Value\n",
    "\n",
    "a = {\"Name\":\"Elon\",\"Age\":50,\"Company\":[\"SpaceX\",\"Tesla\"]}\n",
    "a\n"
   ]
  },
  {
   "cell_type": "code",
   "execution_count": 33,
   "metadata": {
    "colab": {
     "base_uri": "https://localhost:8080/"
    },
    "id": "E15512G4RTZ_",
    "outputId": "e9c75d78-3576-40a1-ed31-b95b6e47d4fc"
   },
   "outputs": [
    {
     "name": "stdout",
     "output_type": "stream",
     "text": [
      "Elon\n"
     ]
    },
    {
     "data": {
      "text/plain": [
       "{'Name': 'Elon', 'Age': 51, 'Company': ['SpaceX', 'Tesla']}"
      ]
     },
     "execution_count": 33,
     "metadata": {},
     "output_type": "execute_result"
    }
   ],
   "source": [
    "a = {\"Name\":\"Elon\",\"Age\":50,\"Company\":[\"SpaceX\",\"Tesla\"]}\n",
    "print(a[\"Name\"]) #Printing value based on its Key\n",
    "a[\"Age\"]= 51 #Changing values\n",
    "a"
   ]
  },
  {
   "cell_type": "code",
   "execution_count": 34,
   "metadata": {
    "colab": {
     "base_uri": "https://localhost:8080/"
    },
    "id": "zpEjVNT4Rc6P",
    "outputId": "7c2e764b-85a1-4fc0-d67b-747bb988ecc4"
   },
   "outputs": [
    {
     "name": "stdout",
     "output_type": "stream",
     "text": [
      "{'Climate': {'Condition': {'Temperature': '38 Degree', 'Humidity': '70 Percentage'}}}\n",
      "-----------------------------------------------------------\n",
      "70 Percentage\n"
     ]
    }
   ],
   "source": [
    "b={\"Climate\":{\"Condition\":{\"Temperature\":\"38 Degree\",\"Humidity\":\"70 Percentage\"}}}\n",
    "\n",
    "print(b)\n",
    "print(\"-----------------------------------------------------------\")\n",
    "print(b[\"Climate\"][\"Condition\"][\"Humidity\"])"
   ]
  },
  {
   "cell_type": "code",
   "execution_count": 35,
   "metadata": {
    "colab": {
     "base_uri": "https://localhost:8080/"
    },
    "id": "YwB2lhRjR1ZM",
    "outputId": "c1076fb8-209a-4c96-f1d0-3a7223084629"
   },
   "outputs": [
    {
     "name": "stdout",
     "output_type": "stream",
     "text": [
      "dict_keys(['Name', 'Age', 'Company'])\n",
      "dict_values(['Elon', 51, ['SpaceX', 'Tesla']])\n",
      "dict_items([('Name', 'Elon'), ('Age', 51), ('Company', ['SpaceX', 'Tesla'])])\n"
     ]
    }
   ],
   "source": [
    "print(a.keys()) #Printing Keys of the Dictionaries\n",
    "print(a.values()) #Printing Values of the Dictionaries\n",
    "print(a.items()) #Printing Tuple of the all items"
   ]
  },
  {
   "cell_type": "code",
   "execution_count": 36,
   "metadata": {
    "colab": {
     "base_uri": "https://localhost:8080/"
    },
    "id": "l1V6nKFYSEg8",
    "outputId": "42b33b01-ef6e-45b8-cba0-f24f0f6454c1"
   },
   "outputs": [
    {
     "name": "stdout",
     "output_type": "stream",
     "text": [
      "dict_keys(['Climate'])\n",
      "dict_values([{'Condition': {'Temperature': '38 Degree', 'Humidity': '70 Percentage'}}])\n",
      "dict_items([('Climate', {'Condition': {'Temperature': '38 Degree', 'Humidity': '70 Percentage'}})])\n"
     ]
    }
   ],
   "source": [
    "print(b.keys()) #Printing Keys of the Dictionaries\n",
    "print(b.values()) #Printing Values of the Dictionaries\n",
    "print(b.items()) #Printing Tuple of the all items"
   ]
  },
  {
   "cell_type": "markdown",
   "metadata": {
    "id": "KzZ1p6QOSdBX"
   },
   "source": [
    "5. Tuples"
   ]
  },
  {
   "cell_type": "code",
   "execution_count": 38,
   "metadata": {
    "colab": {
     "base_uri": "https://localhost:8080/"
    },
    "id": "mm9wJ7ToSJqr",
    "outputId": "e0f55cca-4b35-4bc9-d55b-c0ccf2ffed01"
   },
   "outputs": [
    {
     "name": "stdout",
     "output_type": "stream",
     "text": [
      "('Champ', 21, 99.5)\n",
      "3\n",
      "Champ\n",
      "0\n"
     ]
    }
   ],
   "source": [
    "#Creating Tuples\n",
    "\n",
    "\n",
    "a = (\"Champ\",21,99.5)\n",
    "print(a)\n",
    "\n",
    "print(len(a)) #Length of tuple\n",
    "print(a[0]) #Printing elements from tuple via index\n",
    "print(a.index(\"Champ\")) #Getting Index of Elements"
   ]
  },
  {
   "cell_type": "markdown",
   "metadata": {
    "id": "yUWxp6f4SvFI"
   },
   "source": [
    "6. Set"
   ]
  },
  {
   "cell_type": "code",
   "execution_count": 39,
   "metadata": {
    "colab": {
     "base_uri": "https://localhost:8080/"
    },
    "id": "d-oGrKkOSiZC",
    "outputId": "64a6ebe0-e6db-4a00-955c-11e3249b2a61"
   },
   "outputs": [
    {
     "data": {
      "text/plain": [
       "set()"
      ]
     },
     "execution_count": 39,
     "metadata": {},
     "output_type": "execute_result"
    }
   ],
   "source": [
    "#Creating Set\n",
    "\n",
    "\n",
    "a = set()\n",
    "a"
   ]
  },
  {
   "cell_type": "code",
   "execution_count": 40,
   "metadata": {
    "colab": {
     "base_uri": "https://localhost:8080/"
    },
    "id": "V8JRVyzJS3th",
    "outputId": "b7cbb3af-1bf9-40bf-b266-a5f9aa46f735"
   },
   "outputs": [
    {
     "data": {
      "text/plain": [
       "{'Champ'}"
      ]
     },
     "execution_count": 40,
     "metadata": {},
     "output_type": "execute_result"
    }
   ],
   "source": [
    "a.add(\"Champ\")\n",
    "a"
   ]
  },
  {
   "cell_type": "code",
   "execution_count": 41,
   "metadata": {
    "colab": {
     "base_uri": "https://localhost:8080/"
    },
    "id": "6eg_yxcSS9qf",
    "outputId": "41cb3d4b-711e-4f3b-ed16-3c6b9ec59775"
   },
   "outputs": [
    {
     "data": {
      "text/plain": [
       "{30, 'Champ'}"
      ]
     },
     "execution_count": 41,
     "metadata": {},
     "output_type": "execute_result"
    }
   ],
   "source": [
    "a.add(30)\n",
    "a"
   ]
  },
  {
   "cell_type": "code",
   "execution_count": 42,
   "metadata": {
    "colab": {
     "base_uri": "https://localhost:8080/"
    },
    "id": "i5Dl2rEyTEDp",
    "outputId": "4a99d21b-3821-4774-ce4c-de6820193b6b"
   },
   "outputs": [
    {
     "data": {
      "text/plain": [
       "{21, 99.5, 'Champ'}"
      ]
     },
     "execution_count": 42,
     "metadata": {},
     "output_type": "execute_result"
    }
   ],
   "source": [
    "b = [\"Champ\",21,99.5]\n",
    "set(b)"
   ]
  },
  {
   "cell_type": "markdown",
   "metadata": {
    "id": "C4ckTWzMWxjB"
   },
   "source": [
    "7. Boolean"
   ]
  },
  {
   "cell_type": "code",
   "execution_count": 43,
   "metadata": {
    "colab": {
     "base_uri": "https://localhost:8080/"
    },
    "id": "Sl2JuhupTHyI",
    "outputId": "b0c08025-b2ce-41c3-e4c3-ba1551335f71"
   },
   "outputs": [
    {
     "name": "stdout",
     "output_type": "stream",
     "text": [
      "False\n",
      "True\n",
      "False\n",
      "True\n",
      "False\n",
      "True\n",
      "False\n",
      "True\n"
     ]
    }
   ],
   "source": [
    "\n",
    "###Creating Boolean\n",
    "\n",
    "a = True\n",
    "\n",
    "a = 10\n",
    "b = 5\n",
    "c=15\n",
    "print(a<b)\n",
    "print(a>b)\n",
    "print(a==b)\n",
    "print(a!=b)\n",
    "print(a<=b)\n",
    "print(a>=b)\n",
    "print(a<b and c>a)\n",
    "print(a<b or c>a)"
   ]
  },
  {
   "cell_type": "code",
   "execution_count": null,
   "metadata": {
    "id": "Cl5LCQIEW241"
   },
   "outputs": [],
   "source": []
  }
 ],
 "metadata": {
  "colab": {
   "provenance": []
  },
  "kernelspec": {
   "display_name": "Python 3 (ipykernel)",
   "language": "python",
   "name": "python3"
  },
  "language_info": {
   "codemirror_mode": {
    "name": "ipython",
    "version": 3
   },
   "file_extension": ".py",
   "mimetype": "text/x-python",
   "name": "python",
   "nbconvert_exporter": "python",
   "pygments_lexer": "ipython3",
   "version": "3.9.7"
  }
 },
 "nbformat": 4,
 "nbformat_minor": 1
}
