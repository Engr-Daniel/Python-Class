{
 "cells": [
  {
   "cell_type": "markdown",
   "id": "041da0cf",
   "metadata": {},
   "source": [
    "15. **Python DECORATORS- Functions which modify the functionality of another function/class**"
   ]
  },
  {
   "cell_type": "code",
   "execution_count": 1,
   "id": "6ee7b87d",
   "metadata": {},
   "outputs": [
    {
     "data": {
      "text/plain": [
       "'@decName\\ndef func():\\n    print(\"statement\")\\n    \\nEQUAL TO\\n\\ndef func():\\n    print(\"statement\")\\n    \\nfunc = decName(func)'"
      ]
     },
     "execution_count": 1,
     "metadata": {},
     "output_type": "execute_result"
    }
   ],
   "source": [
    "'''@decName\n",
    "def func():\n",
    "    print(\"statement\")\n",
    "    \n",
    "EQUAL TO\n",
    "\n",
    "def func():\n",
    "    print(\"statement\")\n",
    "    \n",
    "func = decName(func)'''"
   ]
  },
  {
   "cell_type": "markdown",
   "id": "10145426",
   "metadata": {},
   "source": [
    "FUNCTION AS OBJECT"
   ]
  },
  {
   "cell_type": "code",
   "execution_count": 2,
   "id": "72006ec5",
   "metadata": {},
   "outputs": [],
   "source": [
    "def welcome(a):\n",
    "    print(\"Hello {0}, Welcome to Python Bootcamp !!!\".format(a))"
   ]
  },
  {
   "cell_type": "code",
   "execution_count": 3,
   "id": "766ba928",
   "metadata": {},
   "outputs": [
    {
     "name": "stdout",
     "output_type": "stream",
     "text": [
      "Hello champ, Welcome to Python Bootcamp !!!\n"
     ]
    }
   ],
   "source": [
    "a = welcome  #No paranthesis, if its paranthesis it will call fn. - FUNCTION AS OBJECT\n",
    "a(\"champ\")"
   ]
  },
  {
   "cell_type": "markdown",
   "id": "d3c97712",
   "metadata": {},
   "source": [
    "FUNCTION IN VARIABLE"
   ]
  },
  {
   "cell_type": "code",
   "execution_count": 4,
   "id": "7830beca",
   "metadata": {},
   "outputs": [
    {
     "name": "stdout",
     "output_type": "stream",
     "text": [
      "hello all, welcome to python bootcamp\n",
      "HELLO ALL, WELCOME TO PYTHON BOOTCAMP\n"
     ]
    }
   ],
   "source": [
    "def lowerCase(text):\n",
    "    return text.lower()\n",
    "\n",
    "def upperCase(text):\n",
    "    return text.upper()\n",
    "\n",
    "def a(welcome):\n",
    "    message = welcome(\"Hello all, Welcome to Python Bootcamp\")  #FUNCTION IN VARIABLE\n",
    "    print(message)\n",
    "    \n",
    "a(lowerCase)\n",
    "a(upperCase)"
   ]
  },
  {
   "cell_type": "code",
   "execution_count": 5,
   "id": "2ca99d78",
   "metadata": {},
   "outputs": [
    {
     "name": "stdout",
     "output_type": "stream",
     "text": [
      "hello all, welcome to python bootcamp\n"
     ]
    }
   ],
   "source": [
    "def lowerCase(text):\n",
    "    return text.lower()\n",
    "\n",
    "def a(welcome):\n",
    "    message = welcome(\"Hello all, Welcome to Python Bootcamp\") #FUNCTION IN VARIABLE\n",
    "    print(message)\n",
    "\n",
    "a(lowerCase)"
   ]
  },
  {
   "cell_type": "markdown",
   "id": "a65b13de",
   "metadata": {},
   "source": [
    "RETURNING FUNCTION FROM ANOTHER FUNCTION"
   ]
  },
  {
   "cell_type": "code",
   "execution_count": 6,
   "id": "b1f32106",
   "metadata": {},
   "outputs": [
    {
     "name": "stdout",
     "output_type": "stream",
     "text": [
      "100 75\n",
      "175\n"
     ]
    }
   ],
   "source": [
    "def addMain(a): #child\n",
    "    def addSub(b): #parent = a + b\n",
    "        print(a,b)\n",
    "        return a+b #apple\n",
    "    return addSub # return of parent is return of  child now - apple{child = return(parent)}\n",
    "\n",
    "addition = addMain(100)\n",
    "print(addition(75))"
   ]
  },
  {
   "cell_type": "markdown",
   "id": "e2b6274b",
   "metadata": {},
   "source": [
    "DECORATORS in Action"
   ]
  },
  {
   "cell_type": "code",
   "execution_count": 7,
   "id": "b4aa30fd",
   "metadata": {},
   "outputs": [
    {
     "name": "stdout",
     "output_type": "stream",
     "text": [
      "Start\n",
      "Sub fn\n",
      "End\n"
     ]
    }
   ],
   "source": [
    "def decoratorFunc (welcome): #2. Decorator\n",
    "    def a(): #3. can access the outer local function like in this case \"welcome\"\n",
    "        print(\"Start\")\n",
    "        welcome()  #4. calling actual fn.\n",
    "        print(\"End\")\n",
    "    return a\n",
    "\n",
    "def subFunc():  #veg with cheese\n",
    "    print(\"Sub fn\")\n",
    "    \n",
    "subFunc = decoratorFunc(subFunc)  #1. subFunc inside the decorator to control behavior\n",
    "\n",
    "subFunc()"
   ]
  },
  {
   "cell_type": "markdown",
   "id": "002f33e1",
   "metadata": {},
   "source": [
    "**16. Python GENERATORS - To generate as we go along, instead of holding everything in memory & generator functions will automatically suspend ad resume their execution and state around the last point of value generation | n. This feature is known as state suspension**"
   ]
  },
  {
   "cell_type": "code",
   "execution_count": 8,
   "id": "e24ec1a3",
   "metadata": {},
   "outputs": [],
   "source": [
    "def square(n):\n",
    "    for i in range(n):\n",
    "        yield i**2"
   ]
  },
  {
   "cell_type": "code",
   "execution_count": 9,
   "id": "ad631a66",
   "metadata": {},
   "outputs": [
    {
     "name": "stdout",
     "output_type": "stream",
     "text": [
      "0\n",
      "1\n",
      "4\n",
      "9\n",
      "16\n",
      "25\n",
      "36\n",
      "49\n",
      "64\n",
      "81\n"
     ]
    }
   ],
   "source": [
    "for n in square(10):\n",
    "    print(n)"
   ]
  },
  {
   "cell_type": "markdown",
   "id": "d3dc9a77",
   "metadata": {},
   "source": [
    "BUILTIN FUNCTION"
   ]
  },
  {
   "cell_type": "code",
   "execution_count": 10,
   "id": "3b020946",
   "metadata": {},
   "outputs": [],
   "source": [
    "def square():\n",
    "    for i in range(n):\n",
    "        yield i**2"
   ]
  },
  {
   "cell_type": "code",
   "execution_count": 11,
   "id": "62377392",
   "metadata": {},
   "outputs": [],
   "source": [
    "a = square()"
   ]
  },
  {
   "cell_type": "code",
   "execution_count": 12,
   "id": "d465977d",
   "metadata": {},
   "outputs": [
    {
     "name": "stdout",
     "output_type": "stream",
     "text": [
      "0\n"
     ]
    }
   ],
   "source": [
    "print(next(a)) #After yielding all the values next() caused a StopIteration error"
   ]
  },
  {
   "cell_type": "markdown",
   "id": "48a4f3cc",
   "metadata": {},
   "source": [
    "BUILTIN FUNCTION - Iter"
   ]
  },
  {
   "cell_type": "code",
   "execution_count": 13,
   "id": "e83f3bb8",
   "metadata": {},
   "outputs": [
    {
     "name": "stdout",
     "output_type": "stream",
     "text": [
      "c\n",
      "h\n",
      "a\n",
      "m\n",
      "p\n"
     ]
    }
   ],
   "source": [
    "a = \"champ\"\n",
    "\n",
    "for i in a:\n",
    "    print(i)"
   ]
  },
  {
   "cell_type": "code",
   "execution_count": 14,
   "id": "b003eae0",
   "metadata": {},
   "outputs": [
    {
     "ename": "TypeError",
     "evalue": "'str' object is not an iterator",
     "output_type": "error",
     "traceback": [
      "\u001b[1;31m---------------------------------------------------------------------------\u001b[0m",
      "\u001b[1;31mTypeError\u001b[0m                                 Traceback (most recent call last)",
      "\u001b[1;32mC:\\Users\\LENOVO~1\\AppData\\Local\\Temp/ipykernel_8584/1242322984.py\u001b[0m in \u001b[0;36m<module>\u001b[1;34m\u001b[0m\n\u001b[1;32m----> 1\u001b[1;33m \u001b[0mnext\u001b[0m\u001b[1;33m(\u001b[0m\u001b[0ma\u001b[0m\u001b[1;33m)\u001b[0m\u001b[1;33m\u001b[0m\u001b[1;33m\u001b[0m\u001b[0m\n\u001b[0m",
      "\u001b[1;31mTypeError\u001b[0m: 'str' object is not an iterator"
     ]
    }
   ],
   "source": [
    "next(a)"
   ]
  },
  {
   "cell_type": "code",
   "execution_count": 15,
   "id": "f282bfc9",
   "metadata": {},
   "outputs": [],
   "source": [
    "iterOper = iter(a)"
   ]
  },
  {
   "cell_type": "code",
   "execution_count": 16,
   "id": "6570b9a3",
   "metadata": {},
   "outputs": [
    {
     "data": {
      "text/plain": [
       "'c'"
      ]
     },
     "execution_count": 16,
     "metadata": {},
     "output_type": "execute_result"
    }
   ],
   "source": [
    "next(iterOper)"
   ]
  },
  {
   "cell_type": "code",
   "execution_count": null,
   "id": "f9b009e1",
   "metadata": {},
   "outputs": [],
   "source": []
  }
 ],
 "metadata": {
  "kernelspec": {
   "display_name": "Python 3 (ipykernel)",
   "language": "python",
   "name": "python3"
  },
  "language_info": {
   "codemirror_mode": {
    "name": "ipython",
    "version": 3
   },
   "file_extension": ".py",
   "mimetype": "text/x-python",
   "name": "python",
   "nbconvert_exporter": "python",
   "pygments_lexer": "ipython3",
   "version": "3.9.7"
  }
 },
 "nbformat": 4,
 "nbformat_minor": 5
}
