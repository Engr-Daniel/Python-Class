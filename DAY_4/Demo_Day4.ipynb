{
  "nbformat": 4,
  "nbformat_minor": 0,
  "metadata": {
    "colab": {
      "provenance": []
    },
    "kernelspec": {
      "name": "python3",
      "display_name": "Python 3"
    },
    "language_info": {
      "name": "python"
    }
  },
  "cells": [
    {
      "cell_type": "markdown",
      "source": [
        "FUNCTION"
      ],
      "metadata": {
        "id": "dS5SCTO-3Z3F"
      }
    },
    {
      "cell_type": "markdown",
      "source": [
        "##### Initializing and calling basic function"
      ],
      "metadata": {
        "id": "61XwtaN_3skM"
      }
    },
    {
      "cell_type": "code",
      "execution_count": 1,
      "metadata": {
        "id": "ytQqBp7p3Rxd"
      },
      "outputs": [],
      "source": [
        "def welcome():         #Define the function\n",
        "  print(\"Hello guyz Welcome to Python Bootcamp !!!\")"
      ]
    },
    {
      "cell_type": "code",
      "source": [
        "welcome()           #Callling the function"
      ],
      "metadata": {
        "colab": {
          "base_uri": "https://localhost:8080/"
        },
        "id": "ypgqbakq30AT",
        "outputId": "0c397de3-1329-48aa-d281-ffcd9b3b5000"
      },
      "execution_count": 2,
      "outputs": [
        {
          "output_type": "stream",
          "name": "stdout",
          "text": [
            "Hello guyz Welcome to Python Bootcamp !!!\n"
          ]
        }
      ]
    },
    {
      "cell_type": "markdown",
      "source": [
        "##### Initializing & Calling basic function - With argument"
      ],
      "metadata": {
        "id": "acQcGHWc4HUr"
      }
    },
    {
      "cell_type": "code",
      "source": [
        "def welcome(a):\n",
        "  print(\"Hello {0}, Welcome to Python Bootcamp !!!\".format(a))"
      ],
      "metadata": {
        "id": "LTC2LyJ34EUP"
      },
      "execution_count": 3,
      "outputs": []
    },
    {
      "cell_type": "code",
      "source": [
        "welcome(\"Champ\")"
      ],
      "metadata": {
        "colab": {
          "base_uri": "https://localhost:8080/"
        },
        "id": "cvNzz7ND4lNA",
        "outputId": "bda78fd3-a32d-47cf-b90a-5b2e586ab206"
      },
      "execution_count": 4,
      "outputs": [
        {
          "output_type": "stream",
          "name": "stdout",
          "text": [
            "Hello Champ, Welcome to Python Bootcamp !!!\n"
          ]
        }
      ]
    },
    {
      "cell_type": "code",
      "source": [
        "welcome(\"Funmi\")"
      ],
      "metadata": {
        "colab": {
          "base_uri": "https://localhost:8080/"
        },
        "id": "lu4dZu-F4oVI",
        "outputId": "d99a9cbe-ea16-4c5e-a5c8-95adc0c5b034"
      },
      "execution_count": 5,
      "outputs": [
        {
          "output_type": "stream",
          "name": "stdout",
          "text": [
            "Hello Funmi, Welcome to Python Bootcamp !!!\n"
          ]
        }
      ]
    },
    {
      "cell_type": "markdown",
      "source": [
        "##### Print and Return"
      ],
      "metadata": {
        "id": "YaB1bNR15FBr"
      }
    },
    {
      "cell_type": "code",
      "source": [
        "def add(a,b):\n",
        "  add = a+b\n",
        "  print(\"Sum of {0} and {1} is {2}\".format(a,b,add))"
      ],
      "metadata": {
        "id": "1Rx4uydP4scb"
      },
      "execution_count": 6,
      "outputs": []
    },
    {
      "cell_type": "code",
      "source": [
        "add(4,7)"
      ],
      "metadata": {
        "colab": {
          "base_uri": "https://localhost:8080/"
        },
        "id": "liST3ibp5M3w",
        "outputId": "d499a44c-8c25-4c75-9451-fe0e5a4d097d"
      },
      "execution_count": 7,
      "outputs": [
        {
          "output_type": "stream",
          "name": "stdout",
          "text": [
            "Sum of 4 and 7 is 11\n"
          ]
        }
      ]
    },
    {
      "cell_type": "code",
      "source": [
        "def addR(a,b):\n",
        "  add = a+b\n",
        "  return add"
      ],
      "metadata": {
        "id": "ebTwUEKZ5ToF"
      },
      "execution_count": 8,
      "outputs": []
    },
    {
      "cell_type": "code",
      "source": [
        "addR(4,7)"
      ],
      "metadata": {
        "colab": {
          "base_uri": "https://localhost:8080/"
        },
        "id": "52BCrHWx5b1m",
        "outputId": "585f2f1b-e5d0-4db4-f50f-c94142ca8682"
      },
      "execution_count": 9,
      "outputs": [
        {
          "output_type": "execute_result",
          "data": {
            "text/plain": [
              "11"
            ]
          },
          "metadata": {},
          "execution_count": 9
        }
      ]
    },
    {
      "cell_type": "code",
      "source": [
        "ans = addR(45,5)\n",
        "final = ans*500\n",
        "final"
      ],
      "metadata": {
        "colab": {
          "base_uri": "https://localhost:8080/"
        },
        "id": "IkGr30th5fOo",
        "outputId": "0b87ad91-ff6d-41d8-8d0f-f210d7605de7"
      },
      "execution_count": 10,
      "outputs": [
        {
          "output_type": "execute_result",
          "data": {
            "text/plain": [
              "25000"
            ]
          },
          "metadata": {},
          "execution_count": 10
        }
      ]
    },
    {
      "cell_type": "markdown",
      "source": [
        "**Practice Project - Extracting Prime no.**"
      ],
      "metadata": {
        "id": "PGgYIi-d5pqU"
      }
    },
    {
      "cell_type": "code",
      "source": [
        "def check(numbers):\n",
        "  primeNumber = []\n",
        "  for number in numbers:\n",
        "    if number > 1:\n",
        "      for i in range(2, int(number/2) +1):\n",
        "        if (number % i) == 0:   #If number is divisible by any number between 2 and number / 2, it is not prime\n",
        "            print(number, \"is not a prime number\")\n",
        "            break\n",
        "      else:\n",
        "        print(number, \"is a prime number\")\n",
        "        primeNumber.append(number)\n",
        "    else:\n",
        "      pass\n",
        "  return primeNumber"
      ],
      "metadata": {
        "id": "XYl2gRvG5lyU"
      },
      "execution_count": 11,
      "outputs": []
    },
    {
      "cell_type": "code",
      "source": [
        "check([2,3,4,5,6,7,8,9])"
      ],
      "metadata": {
        "colab": {
          "base_uri": "https://localhost:8080/"
        },
        "id": "bp082SzP8EZN",
        "outputId": "88015996-3626-46ef-c1ec-276988f4bb19"
      },
      "execution_count": 12,
      "outputs": [
        {
          "output_type": "stream",
          "name": "stdout",
          "text": [
            "2 is a prime number\n",
            "3 is a prime number\n",
            "4 is not a prime number\n",
            "5 is a prime number\n",
            "6 is not a prime number\n",
            "7 is a prime number\n",
            "8 is not a prime number\n",
            "9 is not a prime number\n"
          ]
        },
        {
          "output_type": "execute_result",
          "data": {
            "text/plain": [
              "[2, 3, 5, 7]"
            ]
          },
          "metadata": {},
          "execution_count": 12
        }
      ]
    },
    {
      "cell_type": "markdown",
      "source": [
        "10. **Map Function - Map a function to an iteration object**"
      ],
      "metadata": {
        "id": "o_HOZHQK9H27"
      }
    },
    {
      "cell_type": "code",
      "source": [
        "def cubeFn(num):\n",
        "  return num ** 3"
      ],
      "metadata": {
        "id": "MkL02DdI8K5P"
      },
      "execution_count": 13,
      "outputs": []
    },
    {
      "cell_type": "code",
      "source": [
        "a = [1,2,3,4,5]\n",
        "list(map(cubeFn, a))"
      ],
      "metadata": {
        "colab": {
          "base_uri": "https://localhost:8080/"
        },
        "id": "CwIhQV9w9eg0",
        "outputId": "f5d5a5ef-9963-42c7-be09-99bc464513c0"
      },
      "execution_count": 14,
      "outputs": [
        {
          "output_type": "execute_result",
          "data": {
            "text/plain": [
              "[1, 8, 27, 64, 125]"
            ]
          },
          "metadata": {},
          "execution_count": 14
        }
      ]
    },
    {
      "cell_type": "code",
      "source": [
        "cubeFn(4)"
      ],
      "metadata": {
        "colab": {
          "base_uri": "https://localhost:8080/"
        },
        "id": "wVll5WAN90qF",
        "outputId": "59ef97fa-295e-4358-bf43-e8cb28bafaed"
      },
      "execution_count": 17,
      "outputs": [
        {
          "output_type": "execute_result",
          "data": {
            "text/plain": [
              "64"
            ]
          },
          "metadata": {},
          "execution_count": 17
        }
      ]
    },
    {
      "cell_type": "markdown",
      "source": [
        "##### 11. Filter Functions - Yields items of iterable in which function is true"
      ],
      "metadata": {
        "id": "DPQ1pIVv-fRv"
      }
    },
    {
      "cell_type": "code",
      "source": [
        "def evenFn(num):\n",
        "  return num % 2 == 0"
      ],
      "metadata": {
        "id": "p7YRp9w4-MDk"
      },
      "execution_count": 20,
      "outputs": []
    },
    {
      "cell_type": "code",
      "source": [
        "a = [0, 1, 2, 3, 4, 5, 6, 7, 8, 9, 10]\n",
        "print(list(map(evenFn, a)))\n",
        "print(list(filter(evenFn, a)))"
      ],
      "metadata": {
        "colab": {
          "base_uri": "https://localhost:8080/"
        },
        "id": "YqlYDGI0-3lJ",
        "outputId": "d2ce53ea-be74-4dcf-d3de-84a174bd6024"
      },
      "execution_count": 23,
      "outputs": [
        {
          "output_type": "stream",
          "name": "stdout",
          "text": [
            "[True, False, True, False, True, False, True, False, True, False, True]\n",
            "[0, 2, 4, 6, 8, 10]\n"
          ]
        }
      ]
    },
    {
      "cell_type": "markdown",
      "source": [
        "**12. Lambda Fn - To create anonymous functions, without using def**"
      ],
      "metadata": {
        "id": "8i1O8amwAWUj"
      }
    },
    {
      "cell_type": "code",
      "source": [
        "# Normal fn \n",
        "\n",
        "def cubeFn(num):\n",
        "  return num ** 3\n",
        "\n",
        "cubeFn(6)"
      ],
      "metadata": {
        "colab": {
          "base_uri": "https://localhost:8080/"
        },
        "id": "W52SRL6x_OEM",
        "outputId": "a91ea19f-7edf-44b4-b2e7-37b2654a02ab"
      },
      "execution_count": 24,
      "outputs": [
        {
          "output_type": "execute_result",
          "data": {
            "text/plain": [
              "216"
            ]
          },
          "metadata": {},
          "execution_count": 24
        }
      ]
    },
    {
      "cell_type": "code",
      "source": [
        "# LAMBDA\n",
        "\n",
        "cubefn = lambda num: num**3\n",
        "cubefn(6)"
      ],
      "metadata": {
        "colab": {
          "base_uri": "https://localhost:8080/"
        },
        "id": "flh5zJfjA0LM",
        "outputId": "9b97724b-bd41-491a-fbef-a827b6bf3886"
      },
      "execution_count": 26,
      "outputs": [
        {
          "output_type": "execute_result",
          "data": {
            "text/plain": [
              "216"
            ]
          },
          "metadata": {},
          "execution_count": 26
        }
      ]
    },
    {
      "cell_type": "markdown",
      "source": [
        "**13. Args and *Kwargs**"
      ],
      "metadata": {
        "id": "PVMi-Q_9BWXb"
      }
    },
    {
      "cell_type": "code",
      "source": [
        "#Normal Fn. with Arguements\n",
        "\n",
        "def addR(a,b,c,d):\n",
        "  add = a+b+c+d\n",
        "  return add\n",
        "addR(10,20,30,40)"
      ],
      "metadata": {
        "colab": {
          "base_uri": "https://localhost:8080/"
        },
        "id": "G1_uIv_IBPMx",
        "outputId": "2e6bc625-5bd7-4e3a-828f-abcc18b5a4f5"
      },
      "execution_count": 31,
      "outputs": [
        {
          "output_type": "execute_result",
          "data": {
            "text/plain": [
              "100"
            ]
          },
          "metadata": {},
          "execution_count": 31
        }
      ]
    },
    {
      "cell_type": "code",
      "source": [
        "#Purpose of args\n",
        "\n",
        "def addR(*argg):\n",
        "    return sum(argg)\n",
        "addR(10,20,30,40)"
      ],
      "metadata": {
        "colab": {
          "base_uri": "https://localhost:8080/"
        },
        "id": "R5YUzO8DBnnh",
        "outputId": "80d7e261-f43d-468d-8034-ab958f5593b3"
      },
      "execution_count": 30,
      "outputs": [
        {
          "output_type": "execute_result",
          "data": {
            "text/plain": [
              "100"
            ]
          },
          "metadata": {},
          "execution_count": 30
        }
      ]
    },
    {
      "cell_type": "code",
      "source": [
        "#Purpose of args\n",
        "\n",
        "def addR(*argg):\n",
        "  return sum(argg)\n",
        "addR(10,20,30,40,52,75,8,5,26,15)"
      ],
      "metadata": {
        "colab": {
          "base_uri": "https://localhost:8080/"
        },
        "id": "gEWYv4EUB4ex",
        "outputId": "1de7bb13-64c6-4c70-c2ab-341bd40eef61"
      },
      "execution_count": 32,
      "outputs": [
        {
          "output_type": "execute_result",
          "data": {
            "text/plain": [
              "281"
            ]
          },
          "metadata": {},
          "execution_count": 32
        }
      ]
    },
    {
      "cell_type": "markdown",
      "source": [
        "**Kwargs - dictionary of key/value pairs**"
      ],
      "metadata": {
        "id": "MN9zdPEQCNfF"
      }
    },
    {
      "cell_type": "code",
      "source": [
        "def func(**kwargs):\n",
        "    if 'name' in kwargs:\n",
        "        print(\"My Name is {0}\".format(kwargs['name']))\n",
        "    if 'age' in kwargs:\n",
        "        print(\"My Age is {0}\".format(kwargs['age']))\n",
        "    else:\n",
        "        print(\"No Key Found\")\n",
        "        \n",
        "func(name='champ',age=24,marks=99)"
      ],
      "metadata": {
        "colab": {
          "base_uri": "https://localhost:8080/"
        },
        "id": "u-7aKtotCHjE",
        "outputId": "d9b787dc-8c82-499d-f263-bacba1ff0364"
      },
      "execution_count": 33,
      "outputs": [
        {
          "output_type": "stream",
          "name": "stdout",
          "text": [
            "My Name is champ\n",
            "My Age is 24\n"
          ]
        }
      ]
    },
    {
      "cell_type": "code",
      "source": [
        "def func(**kwargs):\n",
        "    if 'name' in kwargs:\n",
        "        print(\"My Name is {0}\".format(kwargs['name']))\n",
        "    if 'age' in kwargs:\n",
        "        print(\"My Age is {0}\".format(kwargs['age']))\n",
        "    if 'marks' in kwargs:\n",
        "      print(\"My mark is {0}\".format(kwargs['marks']))\n",
        "    else:\n",
        "        print(\"No Key Found\")\n",
        "        \n",
        "func(name='champ',age=24,marks=99)"
      ],
      "metadata": {
        "colab": {
          "base_uri": "https://localhost:8080/"
        },
        "id": "E5oxGzI4Ck9V",
        "outputId": "480d77aa-aef7-4fc3-b71c-b3edb3b478bf"
      },
      "execution_count": 34,
      "outputs": [
        {
          "output_type": "stream",
          "name": "stdout",
          "text": [
            "My Name is champ\n",
            "My Age is 24\n",
            "My mark is 99\n"
          ]
        }
      ]
    }
  ]
}