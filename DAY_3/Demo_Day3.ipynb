{
 "cells": [
  {
   "cell_type": "markdown",
   "metadata": {
    "id": "7LM4MMtsHTIY"
   },
   "source": [
    "Python Statement"
   ]
  },
  {
   "cell_type": "markdown",
   "metadata": {
    "id": "eTUlcYgEHgNG"
   },
   "source": [
    "##### If Statement"
   ]
  },
  {
   "cell_type": "code",
   "execution_count": 3,
   "metadata": {
    "colab": {
     "base_uri": "https://localhost:8080/"
    },
    "id": "5__CRkmvKI8X",
    "outputId": "9aebc2d7-8c55-4e65-dea9-4770bbb34c91"
   },
   "outputs": [
    {
     "name": "stdout",
     "output_type": "stream",
     "text": [
      "Negative\n"
     ]
    }
   ],
   "source": [
    "a = False \n",
    "if a:\n",
    "  print(\"Positive\")\n",
    "else:\n",
    "  print(\"Negative\")"
   ]
  },
  {
   "cell_type": "code",
   "execution_count": 1,
   "metadata": {
    "colab": {
     "base_uri": "https://localhost:8080/"
    },
    "id": "4moQWbbgDrjJ",
    "outputId": "6734c9fe-7a80-46bf-dedc-2e4e7711c5cb"
   },
   "outputs": [
    {
     "name": "stdout",
     "output_type": "stream",
     "text": [
      "Positive\n"
     ]
    }
   ],
   "source": [
    "a = True \n",
    "if a:\n",
    "  print(\"Positive\")\n",
    "else:\n",
    "  print(\"Negative\")"
   ]
  },
  {
   "cell_type": "markdown",
   "metadata": {
    "id": "-_F5Xw8sJQKF"
   },
   "source": [
    "##### Else if"
   ]
  },
  {
   "cell_type": "code",
   "execution_count": 4,
   "metadata": {
    "colab": {
     "base_uri": "https://localhost:8080/"
    },
    "id": "ioSwcZQtKhr8",
    "outputId": "af84a961-8a46-4dde-dc4f-2ad8df09f882"
   },
   "outputs": [
    {
     "name": "stdout",
     "output_type": "stream",
     "text": [
      "a is equal to b\n",
      "a is not less than b\n"
     ]
    }
   ],
   "source": [
    "a=10\n",
    "b=6\n",
    "c=6\n",
    "\n",
    "if a<b:\n",
    "  print(\"a less than b\")\n",
    "elif c==b:\n",
    "  print(\"a is equal to b\")\n",
    "  print(\"a is not less than b\")\n",
    "else:\n",
    "  print(\"a is not less than b\")"
   ]
  },
  {
   "cell_type": "code",
   "execution_count": 2,
   "metadata": {
    "colab": {
     "base_uri": "https://localhost:8080/"
    },
    "id": "YH-UfsslHsqR",
    "outputId": "b72a116e-5416-433a-80d6-0f8222ec616c"
   },
   "outputs": [
    {
     "name": "stdout",
     "output_type": "stream",
     "text": [
      "a is equal to b\n",
      "a is not less than b\n",
      "c is less than b\n"
     ]
    }
   ],
   "source": [
    "a=10\n",
    "b=6\n",
    "c=6\n",
    "\n",
    "if a<b:\n",
    "  print(\"a less than b\")\n",
    "elif c==b:\n",
    "  print(\"a is equal to b\")\n",
    "  print(\"a is not less than b\")\n",
    "  if c<a:\n",
    "    print(\"c is less than b\")\n",
    "else:\n",
    "  print(\"a is not less than b\")"
   ]
  },
  {
   "cell_type": "markdown",
   "metadata": {
    "id": "fyuRY21sLBFo"
   },
   "source": [
    "##### For Statement"
   ]
  },
  {
   "cell_type": "code",
   "execution_count": 5,
   "metadata": {
    "colab": {
     "base_uri": "https://localhost:8080/"
    },
    "id": "YM2XAy1TJbXj",
    "outputId": "657c6187-6a90-48bb-a012-134844d509f2"
   },
   "outputs": [
    {
     "name": "stdout",
     "output_type": "stream",
     "text": [
      "1\n",
      "2\n",
      "3\n",
      "4\n",
      "5\n",
      "6\n",
      "7\n",
      "8\n",
      "9\n",
      "10\n"
     ]
    }
   ],
   "source": [
    "a = [1,2,3,4,5,6,7,8,9,10]\n",
    "\n",
    "for i in a:\n",
    "  print(i)"
   ]
  },
  {
   "cell_type": "code",
   "execution_count": 6,
   "metadata": {
    "colab": {
     "base_uri": "https://localhost:8080/"
    },
    "id": "iZCwwchfLKjJ",
    "outputId": "0ed21c19-dcba-45bd-bbbb-a48c48e6b8a7"
   },
   "outputs": [
    {
     "data": {
      "text/plain": [
       "['C', 'h', 'a', 'm', 'p']"
      ]
     },
     "execution_count": 6,
     "metadata": {},
     "output_type": "execute_result"
    }
   ],
   "source": [
    "a = [i for i in 'Champ']\n",
    "a"
   ]
  },
  {
   "cell_type": "markdown",
   "metadata": {
    "id": "2xX_s85DLeLq"
   },
   "source": [
    "##### Odd & Even Number"
   ]
  },
  {
   "cell_type": "code",
   "execution_count": 7,
   "metadata": {
    "colab": {
     "base_uri": "https://localhost:8080/"
    },
    "id": "q5OZdgW6LSFb",
    "outputId": "be1b3d9d-0b85-4404-928a-6ec8213f1415"
   },
   "outputs": [
    {
     "name": "stdout",
     "output_type": "stream",
     "text": [
      "1 Odd Number\n",
      "2 Even Number\n",
      "3 Odd Number\n",
      "4 Even Number\n",
      "5 Odd Number\n",
      "6 Even Number\n",
      "7 Odd Number\n",
      "8 Even Number\n",
      "9 Odd Number\n",
      "10 Even Number\n"
     ]
    }
   ],
   "source": [
    "a = [1,2,3,4,5,6,7,8,9,10]\n",
    "\n",
    "for i in a:\n",
    "  if i % 2 == 0:\n",
    "    print(i, \"Even Number\")\n",
    "  else:\n",
    "    print(i, \"Odd Number\")"
   ]
  },
  {
   "cell_type": "markdown",
   "metadata": {
    "id": "mgyPLW5hMBAL"
   },
   "source": [
    "##### String- For"
   ]
  },
  {
   "cell_type": "code",
   "execution_count": 8,
   "metadata": {
    "colab": {
     "base_uri": "https://localhost:8080/"
    },
    "id": "PANgoQt1L9t2",
    "outputId": "7fdcde35-6ff5-496e-c056-ab1418d747fa"
   },
   "outputs": [
    {
     "name": "stdout",
     "output_type": "stream",
     "text": [
      "H\n",
      "e\n",
      "l\n",
      "l\n",
      "o\n",
      " \n",
      "a\n",
      "l\n",
      "l\n"
     ]
    }
   ],
   "source": [
    "for a in \"Hello all\":\n",
    "  print(a)"
   ]
  },
  {
   "cell_type": "markdown",
   "metadata": {
    "id": "RhkiZJ7-MMfu"
   },
   "source": [
    "##### Dictionary For"
   ]
  },
  {
   "cell_type": "code",
   "execution_count": 13,
   "metadata": {
    "colab": {
     "base_uri": "https://localhost:8080/"
    },
    "id": "Sq022KwSMJtW",
    "outputId": "15dbe239-dc55-4a0f-e97a-9d59bc161b23"
   },
   "outputs": [
    {
     "name": "stdout",
     "output_type": "stream",
     "text": [
      "Elon\n",
      "50\n",
      "['SpaceX', 'Tesla']\n"
     ]
    }
   ],
   "source": [
    "a = {\"Name\":\"Elon\", \"Age\":50, \"Company\":[\"SpaceX\", \"Tesla\"]}\n",
    "\n",
    "for k,v in a.items():\n",
    "  #print(k)\n",
    "  print(v)\n",
    "  #print(k,v)"
   ]
  },
  {
   "cell_type": "markdown",
   "metadata": {
    "id": "YpOthshfNN1l"
   },
   "source": [
    "##### While"
   ]
  },
  {
   "cell_type": "code",
   "execution_count": 15,
   "metadata": {
    "colab": {
     "base_uri": "https://localhost:8080/"
    },
    "id": "QNvGFAxwMlt_",
    "outputId": "f57f97ba-aaa0-4b46-b9d5-0a8b9b7dd0cc"
   },
   "outputs": [
    {
     "name": "stdout",
     "output_type": "stream",
     "text": [
      "0\n",
      "1\n",
      "2\n",
      "3\n",
      "4\n",
      "5\n",
      "6\n",
      "7\n",
      "8\n",
      "9\n",
      "10\n"
     ]
    }
   ],
   "source": [
    "a = 0 \n",
    "\n",
    "while a < 11:\n",
    "  print(a)\n",
    "  a += 1             #a=a+1 "
   ]
  },
  {
   "cell_type": "markdown",
   "metadata": {
    "id": "u1tpWSB3ORUc"
   },
   "source": [
    "While - Break & Continue"
   ]
  },
  {
   "cell_type": "code",
   "execution_count": 18,
   "metadata": {
    "colab": {
     "base_uri": "https://localhost:8080/"
    },
    "id": "g5I7KdMrNeoP",
    "outputId": "c30d031c-93a2-4c94-e50a-4cc5c9233c75"
   },
   "outputs": [
    {
     "name": "stdout",
     "output_type": "stream",
     "text": [
      "0\n",
      "Continueeee\n",
      "1\n",
      "Continueeee\n",
      "2\n",
      "Continueeee\n",
      "3\n",
      "Continueeee\n",
      "4\n",
      "a is equal to 5\n"
     ]
    }
   ],
   "source": [
    "a=0\n",
    "while a < 10:\n",
    "  print(a)\n",
    "  a+=1\n",
    "  if a==5:\n",
    "    print(\"a is equal to 5\")\n",
    "    break\n",
    "  else:\n",
    "    print(\"Continueeee\")\n",
    "    continue"
   ]
  },
  {
   "cell_type": "code",
   "execution_count": 19,
   "metadata": {
    "colab": {
     "base_uri": "https://localhost:8080/"
    },
    "id": "3kop9XqaOF2G",
    "outputId": "7e6b632c-6eac-4e14-9226-35eca9e0d247"
   },
   "outputs": [
    {
     "name": "stdout",
     "output_type": "stream",
     "text": [
      "0\n",
      "Continueeee\n",
      "1\n",
      "Continueeee\n",
      "2\n",
      "Continueeee\n",
      "3\n",
      "Continueeee\n",
      "4\n",
      "a is equal to 5\n",
      "5\n",
      "Continueeee\n",
      "6\n",
      "Continueeee\n",
      "7\n",
      "Continueeee\n",
      "8\n",
      "Continueeee\n",
      "9\n",
      "Continueeee\n"
     ]
    }
   ],
   "source": [
    "a=0\n",
    "while a < 10:\n",
    "  print(a)\n",
    "  a+=1\n",
    "  if a==5:\n",
    "    print(\"a is equal to 5\")\n",
    "    #break\n",
    "  else:\n",
    "    print(\"Continueeee\")\n",
    "    continue"
   ]
  },
  {
   "cell_type": "markdown",
   "metadata": {
    "id": "MFNJznfxQGDd"
   },
   "source": [
    "Range"
   ]
  },
  {
   "cell_type": "code",
   "execution_count": 20,
   "metadata": {
    "colab": {
     "base_uri": "https://localhost:8080/"
    },
    "id": "uLtk0_WWO3WI",
    "outputId": "404e7662-c18d-48d2-ca09-819806a7b854"
   },
   "outputs": [
    {
     "name": "stdout",
     "output_type": "stream",
     "text": [
      "0\n",
      "1\n",
      "2\n",
      "3\n",
      "4\n",
      "5\n"
     ]
    }
   ],
   "source": [
    "for a in range(6):\n",
    "  print (a)"
   ]
  },
  {
   "cell_type": "code",
   "execution_count": 21,
   "metadata": {
    "colab": {
     "base_uri": "https://localhost:8080/"
    },
    "id": "w7Kxq4dPQLpE",
    "outputId": "b423677c-81d4-43a6-ff9e-30076dac358a"
   },
   "outputs": [
    {
     "name": "stdout",
     "output_type": "stream",
     "text": [
      "1\n",
      "4\n",
      "7\n"
     ]
    }
   ],
   "source": [
    "for a in range(1,10,3):\n",
    "  print(a)"
   ]
  },
  {
   "cell_type": "code",
   "execution_count": 22,
   "metadata": {
    "colab": {
     "base_uri": "https://localhost:8080/"
    },
    "id": "QnwTkkUhQTW8",
    "outputId": "f43b94a1-c9b8-4f82-9145-b4813f00a247"
   },
   "outputs": [
    {
     "name": "stdout",
     "output_type": "stream",
     "text": [
      "10\n",
      "7\n",
      "4\n",
      "1\n"
     ]
    }
   ],
   "source": [
    "for a in range (10, 0, -3):\n",
    "  print(a)"
   ]
  },
  {
   "cell_type": "code",
   "execution_count": 23,
   "metadata": {
    "colab": {
     "base_uri": "https://localhost:8080/"
    },
    "id": "_gzmVbZCQetv",
    "outputId": "69dbb8ea-2c6f-43f5-94e0-340445fad31e"
   },
   "outputs": [
    {
     "data": {
      "text/plain": [
       "[0, 1, 4, 9, 16]"
      ]
     },
     "execution_count": 23,
     "metadata": {},
     "output_type": "execute_result"
    }
   ],
   "source": [
    "a = [i**2 for i in range(0,5)]\n",
    "a"
   ]
  },
  {
   "cell_type": "code",
   "execution_count": 26,
   "metadata": {
    "colab": {
     "base_uri": "https://localhost:8080/"
    },
    "id": "ez-kaLD8QmIt",
    "outputId": "9c5e2cb8-4076-435c-a3d5-48a092a98dac"
   },
   "outputs": [
    {
     "data": {
      "text/plain": [
       "[0, 2, 4, 6, 8]"
      ]
     },
     "execution_count": 26,
     "metadata": {},
     "output_type": "execute_result"
    }
   ],
   "source": [
    "a = [i for i in range(10) if i%2 == 0]\n",
    "a"
   ]
  },
  {
   "cell_type": "markdown",
   "metadata": {
    "id": "eRP5wXJyQ-EE"
   },
   "source": [
    "Enumerate- To track number of iteration in the loop, without working with variable increment"
   ]
  },
  {
   "cell_type": "code",
   "execution_count": 27,
   "metadata": {
    "colab": {
     "base_uri": "https://localhost:8080/"
    },
    "id": "qi8GF_IgQ0cq",
    "outputId": "5d49eccd-ca7c-498d-ef91-f4a9ca4d9a28"
   },
   "outputs": [
    {
     "name": "stdout",
     "output_type": "stream",
     "text": [
      "0 H\n",
      "1 e\n",
      "2 l\n",
      "3 l\n",
      "4 o\n",
      "5  \n",
      "6 C\n",
      "7 h\n",
      "8 a\n",
      "9 m\n",
      "10 p\n"
     ]
    }
   ],
   "source": [
    "a = 0\n",
    "for i,a in enumerate(\"Hello Champ\"):\n",
    "  print(i,a)"
   ]
  },
  {
   "cell_type": "markdown",
   "metadata": {
    "id": "bPZfQvDNR-i5"
   },
   "source": [
    "ZIP - Creating a tuples by zipping 2 list"
   ]
  },
  {
   "cell_type": "code",
   "execution_count": 29,
   "metadata": {
    "colab": {
     "base_uri": "https://localhost:8080/"
    },
    "id": "PT0h9lVVRZAL",
    "outputId": "4f6843c6-febd-4f16-9eb7-6d4b55241fb3"
   },
   "outputs": [
    {
     "data": {
      "text/plain": [
       "[('Name', 'Champ'), ('Age', 27), ('Country', 'India')]"
      ]
     },
     "execution_count": 29,
     "metadata": {},
     "output_type": "execute_result"
    }
   ],
   "source": [
    "a = [\"Name\",\"Age\",\"Country\"]\n",
    "b = [\"Champ\",27,\"India\"]\n",
    "list(zip(a,b))"
   ]
  },
  {
   "cell_type": "code",
   "execution_count": 30,
   "metadata": {
    "colab": {
     "base_uri": "https://localhost:8080/"
    },
    "id": "GQggX0MOSKcW",
    "outputId": "fde527b7-ea35-4e9c-90af-068fe5f94c1d"
   },
   "outputs": [
    {
     "data": {
      "text/plain": [
       "['Name', 'Age', 'Country', 'Champ', 27, 'India']"
      ]
     },
     "execution_count": 30,
     "metadata": {},
     "output_type": "execute_result"
    }
   ],
   "source": [
    "a + b"
   ]
  }
 ],
 "metadata": {
  "colab": {
   "provenance": []
  },
  "kernelspec": {
   "display_name": "Python 3 (ipykernel)",
   "language": "python",
   "name": "python3"
  },
  "language_info": {
   "codemirror_mode": {
    "name": "ipython",
    "version": 3
   },
   "file_extension": ".py",
   "mimetype": "text/x-python",
   "name": "python",
   "nbconvert_exporter": "python",
   "pygments_lexer": "ipython3",
   "version": "3.9.7"
  }
 },
 "nbformat": 4,
 "nbformat_minor": 1
}
